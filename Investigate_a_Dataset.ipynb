{
 "cells": [
  {
   "cell_type": "markdown",
   "metadata": {},
   "source": [
    "# Project: Investigate IMDb Dataset\n",
    "\n",
    "## Table of Contents\n",
    "<ul>\n",
    "<li><a href=\"#intro\">Introduction</a></li>\n",
    "<li><a href=\"#wrangling\">Data Wrangling</a></li>\n",
    "<li><a href=\"#eda\">Exploratory Data Analysis</a></li>\n",
    "<li><a href=\"#conclusions\">Conclusions</a></li>\n",
    "</ul>"
   ]
  },
  {
   "cell_type": "markdown",
   "metadata": {},
   "source": [
    "<a id='intro'></a>\n",
    "## Introduction\n",
    "<p></p>\n",
    "<font color='#337ab7'>\n",
    "<b>TMDb movie dataset:</b> This data set contains information about 10,000 movies collected from The Movie Database (TMDb), including user ratings and revenue. The goal of the analysis is to answer the following questions:\n",
    "\n",
    "1. What are the most and least profitable movies in a given dataframe based on the adjusted budget and revenue?\n",
    "2. Are longer movies and series more popular among IMDB users?\n",
    "3. What are the best and worst rated genres among IMDB users?\n",
    "4. Do IMDB users vote more for popular or unpopular movies?\n",
    "\n",
    "</font>"
   ]
  },
  {
   "cell_type": "code",
   "execution_count": 1,
   "metadata": {},
   "outputs": [],
   "source": [
    "#Import statements for all of the packages required to perform the analysis\n",
    "import pandas as pd\n",
    "import numpy as np\n",
    "import matplotlib.pyplot as plt\n",
    "import matplotlib.patches as mpatches\n",
    "% matplotlib inline"
   ]
  },
  {
   "cell_type": "markdown",
   "metadata": {},
   "source": [
    "<a id='wrangling'></a>\n",
    "## Data Wrangling\n",
    "<p></p>\n",
    "<font color='#337ab7'>\n",
    "<b>Dataset analysis steps:</b> \n",
    "\n",
    "- Load the data and overview each column using the head function.\n",
    "- Make sure the columns are named properly.\n",
    "- Analyze each column's data type.\n",
    "- Understand how many special character separated values are stored in certain column. \n",
    "- Get the number of duplicate rows\n",
    "- Analyze the number of movies with zero budget and revenue\n",
    "- Check if all the movies are unique.\n",
    "</font>\n",
    "\n",
    "### General Properties"
   ]
  },
  {
   "cell_type": "code",
   "execution_count": 2,
   "metadata": {},
   "outputs": [
    {
     "data": {
      "text/html": [
       "<div>\n",
       "<style scoped>\n",
       "    .dataframe tbody tr th:only-of-type {\n",
       "        vertical-align: middle;\n",
       "    }\n",
       "\n",
       "    .dataframe tbody tr th {\n",
       "        vertical-align: top;\n",
       "    }\n",
       "\n",
       "    .dataframe thead th {\n",
       "        text-align: right;\n",
       "    }\n",
       "</style>\n",
       "<table border=\"1\" class=\"dataframe\">\n",
       "  <thead>\n",
       "    <tr style=\"text-align: right;\">\n",
       "      <th></th>\n",
       "      <th>id</th>\n",
       "      <th>imdb_id</th>\n",
       "      <th>popularity</th>\n",
       "      <th>budget</th>\n",
       "      <th>revenue</th>\n",
       "      <th>original_title</th>\n",
       "      <th>cast</th>\n",
       "      <th>homepage</th>\n",
       "      <th>director</th>\n",
       "      <th>tagline</th>\n",
       "      <th>...</th>\n",
       "      <th>overview</th>\n",
       "      <th>runtime</th>\n",
       "      <th>genres</th>\n",
       "      <th>production_companies</th>\n",
       "      <th>release_date</th>\n",
       "      <th>vote_count</th>\n",
       "      <th>vote_average</th>\n",
       "      <th>release_year</th>\n",
       "      <th>budget_adj</th>\n",
       "      <th>revenue_adj</th>\n",
       "    </tr>\n",
       "  </thead>\n",
       "  <tbody>\n",
       "    <tr>\n",
       "      <th>0</th>\n",
       "      <td>135397</td>\n",
       "      <td>tt0369610</td>\n",
       "      <td>32.985763</td>\n",
       "      <td>150000000</td>\n",
       "      <td>1513528810</td>\n",
       "      <td>Jurassic World</td>\n",
       "      <td>Chris Pratt|Bryce Dallas Howard|Irrfan Khan|Vi...</td>\n",
       "      <td>http://www.jurassicworld.com/</td>\n",
       "      <td>Colin Trevorrow</td>\n",
       "      <td>The park is open.</td>\n",
       "      <td>...</td>\n",
       "      <td>Twenty-two years after the events of Jurassic ...</td>\n",
       "      <td>124</td>\n",
       "      <td>Action|Adventure|Science Fiction|Thriller</td>\n",
       "      <td>Universal Studios|Amblin Entertainment|Legenda...</td>\n",
       "      <td>6/9/15</td>\n",
       "      <td>5562</td>\n",
       "      <td>6.5</td>\n",
       "      <td>2015</td>\n",
       "      <td>1.379999e+08</td>\n",
       "      <td>1.392446e+09</td>\n",
       "    </tr>\n",
       "    <tr>\n",
       "      <th>1</th>\n",
       "      <td>76341</td>\n",
       "      <td>tt1392190</td>\n",
       "      <td>28.419936</td>\n",
       "      <td>150000000</td>\n",
       "      <td>378436354</td>\n",
       "      <td>Mad Max: Fury Road</td>\n",
       "      <td>Tom Hardy|Charlize Theron|Hugh Keays-Byrne|Nic...</td>\n",
       "      <td>http://www.madmaxmovie.com/</td>\n",
       "      <td>George Miller</td>\n",
       "      <td>What a Lovely Day.</td>\n",
       "      <td>...</td>\n",
       "      <td>An apocalyptic story set in the furthest reach...</td>\n",
       "      <td>120</td>\n",
       "      <td>Action|Adventure|Science Fiction|Thriller</td>\n",
       "      <td>Village Roadshow Pictures|Kennedy Miller Produ...</td>\n",
       "      <td>5/13/15</td>\n",
       "      <td>6185</td>\n",
       "      <td>7.1</td>\n",
       "      <td>2015</td>\n",
       "      <td>1.379999e+08</td>\n",
       "      <td>3.481613e+08</td>\n",
       "    </tr>\n",
       "    <tr>\n",
       "      <th>2</th>\n",
       "      <td>262500</td>\n",
       "      <td>tt2908446</td>\n",
       "      <td>13.112507</td>\n",
       "      <td>110000000</td>\n",
       "      <td>295238201</td>\n",
       "      <td>Insurgent</td>\n",
       "      <td>Shailene Woodley|Theo James|Kate Winslet|Ansel...</td>\n",
       "      <td>http://www.thedivergentseries.movie/#insurgent</td>\n",
       "      <td>Robert Schwentke</td>\n",
       "      <td>One Choice Can Destroy You</td>\n",
       "      <td>...</td>\n",
       "      <td>Beatrice Prior must confront her inner demons ...</td>\n",
       "      <td>119</td>\n",
       "      <td>Adventure|Science Fiction|Thriller</td>\n",
       "      <td>Summit Entertainment|Mandeville Films|Red Wago...</td>\n",
       "      <td>3/18/15</td>\n",
       "      <td>2480</td>\n",
       "      <td>6.3</td>\n",
       "      <td>2015</td>\n",
       "      <td>1.012000e+08</td>\n",
       "      <td>2.716190e+08</td>\n",
       "    </tr>\n",
       "  </tbody>\n",
       "</table>\n",
       "<p>3 rows × 21 columns</p>\n",
       "</div>"
      ],
      "text/plain": [
       "       id    imdb_id  popularity     budget     revenue      original_title  \\\n",
       "0  135397  tt0369610   32.985763  150000000  1513528810      Jurassic World   \n",
       "1   76341  tt1392190   28.419936  150000000   378436354  Mad Max: Fury Road   \n",
       "2  262500  tt2908446   13.112507  110000000   295238201           Insurgent   \n",
       "\n",
       "                                                cast  \\\n",
       "0  Chris Pratt|Bryce Dallas Howard|Irrfan Khan|Vi...   \n",
       "1  Tom Hardy|Charlize Theron|Hugh Keays-Byrne|Nic...   \n",
       "2  Shailene Woodley|Theo James|Kate Winslet|Ansel...   \n",
       "\n",
       "                                         homepage          director  \\\n",
       "0                   http://www.jurassicworld.com/   Colin Trevorrow   \n",
       "1                     http://www.madmaxmovie.com/     George Miller   \n",
       "2  http://www.thedivergentseries.movie/#insurgent  Robert Schwentke   \n",
       "\n",
       "                      tagline      ...       \\\n",
       "0           The park is open.      ...        \n",
       "1          What a Lovely Day.      ...        \n",
       "2  One Choice Can Destroy You      ...        \n",
       "\n",
       "                                            overview runtime  \\\n",
       "0  Twenty-two years after the events of Jurassic ...     124   \n",
       "1  An apocalyptic story set in the furthest reach...     120   \n",
       "2  Beatrice Prior must confront her inner demons ...     119   \n",
       "\n",
       "                                      genres  \\\n",
       "0  Action|Adventure|Science Fiction|Thriller   \n",
       "1  Action|Adventure|Science Fiction|Thriller   \n",
       "2         Adventure|Science Fiction|Thriller   \n",
       "\n",
       "                                production_companies release_date vote_count  \\\n",
       "0  Universal Studios|Amblin Entertainment|Legenda...       6/9/15       5562   \n",
       "1  Village Roadshow Pictures|Kennedy Miller Produ...      5/13/15       6185   \n",
       "2  Summit Entertainment|Mandeville Films|Red Wago...      3/18/15       2480   \n",
       "\n",
       "   vote_average  release_year    budget_adj   revenue_adj  \n",
       "0           6.5          2015  1.379999e+08  1.392446e+09  \n",
       "1           7.1          2015  1.379999e+08  3.481613e+08  \n",
       "2           6.3          2015  1.012000e+08  2.716190e+08  \n",
       "\n",
       "[3 rows x 21 columns]"
      ]
     },
     "execution_count": 2,
     "metadata": {},
     "output_type": "execute_result"
    }
   ],
   "source": [
    "#Read the CSV file and display the content to understand the data.\n",
    "df = pd.read_csv ('tmdb-movies.csv')\n",
    "df.head(3)\n",
    "#cast, genres and production_companies columns combine multiple values separated by “|” character \n",
    "#budget_adj and revenue_adj columns contain are foat when original budget and revenue are integers"
   ]
  },
  {
   "cell_type": "code",
   "execution_count": 3,
   "metadata": {},
   "outputs": [
    {
     "name": "stdout",
     "output_type": "stream",
     "text": [
      "<class 'pandas.core.frame.DataFrame'>\n",
      "RangeIndex: 10866 entries, 0 to 10865\n",
      "Data columns (total 21 columns):\n",
      "id                      10866 non-null int64\n",
      "imdb_id                 10856 non-null object\n",
      "popularity              10866 non-null float64\n",
      "budget                  10866 non-null int64\n",
      "revenue                 10866 non-null int64\n",
      "original_title          10866 non-null object\n",
      "cast                    10790 non-null object\n",
      "homepage                2936 non-null object\n",
      "director                10822 non-null object\n",
      "tagline                 8042 non-null object\n",
      "keywords                9373 non-null object\n",
      "overview                10862 non-null object\n",
      "runtime                 10866 non-null int64\n",
      "genres                  10843 non-null object\n",
      "production_companies    9836 non-null object\n",
      "release_date            10866 non-null object\n",
      "vote_count              10866 non-null int64\n",
      "vote_average            10866 non-null float64\n",
      "release_year            10866 non-null int64\n",
      "budget_adj              10866 non-null float64\n",
      "revenue_adj             10866 non-null float64\n",
      "dtypes: float64(4), int64(6), object(11)\n",
      "memory usage: 1.7+ MB\n"
     ]
    }
   ],
   "source": [
    "#Get the number of rows and columns and analyze the data types.\n",
    "df.info()"
   ]
  },
  {
   "cell_type": "markdown",
   "metadata": {},
   "source": [
    "<font color='#337ab7'>The dataset contains 10866 rows and 21 columns, all the columns seem to have an appropriate data type. The release_date data type requires the further investigation. Some of the columns contain missing values, but the content of these columns is not essential to the analysis. The column names are properly formatted, so there is no need to rename any columns.</font>"
   ]
  },
  {
   "cell_type": "code",
   "execution_count": 4,
   "metadata": {},
   "outputs": [
    {
     "data": {
      "text/plain": [
       "str"
      ]
     },
     "execution_count": 4,
     "metadata": {},
     "output_type": "execute_result"
    }
   ],
   "source": [
    "#The data types of all columns seem to be appropriate except the release_date field\n",
    "#Check the data type of the release_date field\n",
    "type(df['release_date'][0])\n",
    "#The data type is str"
   ]
  },
  {
   "cell_type": "markdown",
   "metadata": {},
   "source": [
    "<font color='#337ab7'>It appears that realease_date data type is string.</font>"
   ]
  },
  {
   "cell_type": "code",
   "execution_count": 5,
   "metadata": {},
   "outputs": [
    {
     "name": "stdout",
     "output_type": "stream",
     "text": [
      "5.0\n",
      "5.0\n"
     ]
    }
   ],
   "source": [
    "#Get the maximum number of values in genres and production_companies\n",
    "#Since the values in these columns are separated by \"|\" character, count the number of times this character is repeated\n",
    "#in each of these columns and add 1 to the result to get the actual number of the values.\n",
    "num_genres = df.genres.str.count('\\|').max()\n",
    "print (num_genres + 1)\n",
    "num_pc = df.production_companies.str.count('\\|').max()\n",
    "print (num_pc + 1)"
   ]
  },
  {
   "cell_type": "markdown",
   "metadata": {},
   "source": [
    "<font color='#337ab7'>There are maximum 5 values separated by \"|\" special character in both genres and production_companies columns.</font>"
   ]
  },
  {
   "cell_type": "code",
   "execution_count": 6,
   "metadata": {},
   "outputs": [
    {
     "data": {
      "text/plain": [
       "1"
      ]
     },
     "execution_count": 6,
     "metadata": {},
     "output_type": "execute_result"
    }
   ],
   "source": [
    "#get the number of duplicated rows\n",
    "df.duplicated().sum()"
   ]
  },
  {
   "cell_type": "markdown",
   "metadata": {},
   "source": [
    "<font color='#337ab7'>There is only one duplicate row in the entire dataset</font>"
   ]
  },
  {
   "cell_type": "code",
   "execution_count": 7,
   "metadata": {},
   "outputs": [
    {
     "name": "stdout",
     "output_type": "stream",
     "text": [
      "5687\n",
      "6006\n"
     ]
    }
   ],
   "source": [
    "#Get the number of zero budget and zero revenue movies\n",
    "df_zb = df.query('budget == 0')\n",
    "print (df_zb.imdb_id.count())\n",
    "df_zr = df.query('revenue == 0')\n",
    "print (df_zr.imdb_id.count())"
   ]
  },
  {
   "cell_type": "markdown",
   "metadata": {},
   "source": [
    "<font color='#337ab7'>There are 5687 zero budget and 6006 zero revenue rows.</font>"
   ]
  },
  {
   "cell_type": "code",
   "execution_count": 8,
   "metadata": {},
   "outputs": [
    {
     "data": {
      "text/plain": [
       "10855"
      ]
     },
     "execution_count": 8,
     "metadata": {},
     "output_type": "execute_result"
    }
   ],
   "source": [
    "#Check if all of the movies are unique.\n",
    "df['imdb_id'].nunique()\n",
    "#Yes, all the movies are unique, as number of unique equals to the number of rows."
   ]
  },
  {
   "cell_type": "markdown",
   "metadata": {},
   "source": [
    "<font color='#337ab7'>All the movies seem to be unique based on the imdb_id field.</font>"
   ]
  },
  {
   "cell_type": "markdown",
   "metadata": {},
   "source": [
    "### Data Cleaning"
   ]
  },
  {
   "cell_type": "code",
   "execution_count": 9,
   "metadata": {},
   "outputs": [
    {
     "data": {
      "text/plain": [
       "0"
      ]
     },
     "execution_count": 9,
     "metadata": {},
     "output_type": "execute_result"
    }
   ],
   "source": [
    "#drop the duplicated rows\n",
    "df.drop_duplicates( keep='first', inplace = True)\n",
    "#check if the duplicated row got dropped\n",
    "df.duplicated().sum()"
   ]
  },
  {
   "cell_type": "markdown",
   "metadata": {},
   "source": [
    "<font color='#337ab7'>The duplicate row has been dropped.</font>"
   ]
  },
  {
   "cell_type": "code",
   "execution_count": 10,
   "metadata": {},
   "outputs": [
    {
     "data": {
      "text/plain": [
       "pandas._libs.tslibs.timestamps.Timestamp"
      ]
     },
     "execution_count": 10,
     "metadata": {},
     "output_type": "execute_result"
    }
   ],
   "source": [
    "#Convert the release_date field to a more appropriate data type - datetime64, and verify the result of this conversion.\n",
    "df['release_date'] = df['release_date'].astype('datetime64')\n",
    "type(df['release_date'][0])"
   ]
  },
  {
   "cell_type": "markdown",
   "metadata": {},
   "source": [
    "<font color='#337ab7'>The release_date field has been converted to data_time data type.</font>"
   ]
  },
  {
   "cell_type": "code",
   "execution_count": 11,
   "metadata": {},
   "outputs": [
    {
     "name": "stdout",
     "output_type": "stream",
     "text": [
      "<class 'numpy.int64'>\n",
      "<class 'numpy.int64'>\n"
     ]
    }
   ],
   "source": [
    "#Convert budget_adj and revenue_adj columns to integer and verify the result of this conversion.\n",
    "df['budget_adj'] = df['budget_adj'].astype('int64')\n",
    "print(type(df['budget_adj'][0]))\n",
    "df['revenue_adj'] = df['revenue_adj'].astype('int64')\n",
    "print(type(df['revenue_adj'][0]))\n",
    "#Update the adj values to show in millions for easier analysis\n",
    "df['budget_adj'] = df['budget_adj'] / 1000000\n",
    "df['revenue_adj'] =df['revenue_adj'] / 1000000"
   ]
  },
  {
   "cell_type": "markdown",
   "metadata": {},
   "source": [
    "<font color='#337ab7'>Since the adjusted budget and revenue contains too many characters, both fields have been converted to reflect the values in millions.</font>"
   ]
  },
  {
   "cell_type": "code",
   "execution_count": 12,
   "metadata": {},
   "outputs": [],
   "source": [
    "#Create additional rows for the values in genres and production_companies in order to perform an extensive analysis. \n",
    "#Split the values in genres column by \"|\" character. Then apply the pandas series function to each row to create\n",
    "#a one dimensional ndarray. The stack function returns the series object having a multi-level index reshaped as single rows.\n",
    "df_genres = df['genres'].str.split('\\|').apply(pd.Series, 1).stack()\n",
    "df_genres.index = df_genres.index.droplevel(-1) #to line up with df's index\n",
    "df_genres.name = 'genres' #name the column\n",
    "del df['genres'] #delete the original genres column\n",
    "df_adj = df.join(df_genres) #join the original df with the newly created df_generes"
   ]
  },
  {
   "cell_type": "markdown",
   "metadata": {},
   "source": [
    "<font color='#337ab7'>Since genres column combines multiple values, the content of this columns has been split into individual genres. In order to perform an analysis based on the genre, each genre has been recorded its individual row.</font>"
   ]
  },
  {
   "cell_type": "code",
   "execution_count": 13,
   "metadata": {},
   "outputs": [
    {
     "data": {
      "text/html": [
       "<div>\n",
       "<style scoped>\n",
       "    .dataframe tbody tr th:only-of-type {\n",
       "        vertical-align: middle;\n",
       "    }\n",
       "\n",
       "    .dataframe tbody tr th {\n",
       "        vertical-align: top;\n",
       "    }\n",
       "\n",
       "    .dataframe thead th {\n",
       "        text-align: right;\n",
       "    }\n",
       "</style>\n",
       "<table border=\"1\" class=\"dataframe\">\n",
       "  <thead>\n",
       "    <tr style=\"text-align: right;\">\n",
       "      <th></th>\n",
       "      <th>id</th>\n",
       "      <th>imdb_id</th>\n",
       "      <th>popularity</th>\n",
       "      <th>budget</th>\n",
       "      <th>revenue</th>\n",
       "      <th>original_title</th>\n",
       "      <th>cast</th>\n",
       "      <th>homepage</th>\n",
       "      <th>director</th>\n",
       "      <th>tagline</th>\n",
       "      <th>...</th>\n",
       "      <th>overview</th>\n",
       "      <th>runtime</th>\n",
       "      <th>production_companies</th>\n",
       "      <th>release_date</th>\n",
       "      <th>vote_count</th>\n",
       "      <th>vote_average</th>\n",
       "      <th>release_year</th>\n",
       "      <th>budget_adj</th>\n",
       "      <th>revenue_adj</th>\n",
       "      <th>genres</th>\n",
       "    </tr>\n",
       "  </thead>\n",
       "  <tbody>\n",
       "    <tr>\n",
       "      <th>0</th>\n",
       "      <td>135397</td>\n",
       "      <td>tt0369610</td>\n",
       "      <td>32.985763</td>\n",
       "      <td>150000000</td>\n",
       "      <td>1513528810</td>\n",
       "      <td>Jurassic World</td>\n",
       "      <td>Chris Pratt|Bryce Dallas Howard|Irrfan Khan|Vi...</td>\n",
       "      <td>http://www.jurassicworld.com/</td>\n",
       "      <td>Colin Trevorrow</td>\n",
       "      <td>The park is open.</td>\n",
       "      <td>...</td>\n",
       "      <td>Twenty-two years after the events of Jurassic ...</td>\n",
       "      <td>124</td>\n",
       "      <td>Universal Studios|Amblin Entertainment|Legenda...</td>\n",
       "      <td>2015-06-09</td>\n",
       "      <td>5562</td>\n",
       "      <td>6.5</td>\n",
       "      <td>2015</td>\n",
       "      <td>137.999939</td>\n",
       "      <td>1392.445892</td>\n",
       "      <td>Action</td>\n",
       "    </tr>\n",
       "    <tr>\n",
       "      <th>0</th>\n",
       "      <td>135397</td>\n",
       "      <td>tt0369610</td>\n",
       "      <td>32.985763</td>\n",
       "      <td>150000000</td>\n",
       "      <td>1513528810</td>\n",
       "      <td>Jurassic World</td>\n",
       "      <td>Chris Pratt|Bryce Dallas Howard|Irrfan Khan|Vi...</td>\n",
       "      <td>http://www.jurassicworld.com/</td>\n",
       "      <td>Colin Trevorrow</td>\n",
       "      <td>The park is open.</td>\n",
       "      <td>...</td>\n",
       "      <td>Twenty-two years after the events of Jurassic ...</td>\n",
       "      <td>124</td>\n",
       "      <td>Universal Studios|Amblin Entertainment|Legenda...</td>\n",
       "      <td>2015-06-09</td>\n",
       "      <td>5562</td>\n",
       "      <td>6.5</td>\n",
       "      <td>2015</td>\n",
       "      <td>137.999939</td>\n",
       "      <td>1392.445892</td>\n",
       "      <td>Adventure</td>\n",
       "    </tr>\n",
       "    <tr>\n",
       "      <th>0</th>\n",
       "      <td>135397</td>\n",
       "      <td>tt0369610</td>\n",
       "      <td>32.985763</td>\n",
       "      <td>150000000</td>\n",
       "      <td>1513528810</td>\n",
       "      <td>Jurassic World</td>\n",
       "      <td>Chris Pratt|Bryce Dallas Howard|Irrfan Khan|Vi...</td>\n",
       "      <td>http://www.jurassicworld.com/</td>\n",
       "      <td>Colin Trevorrow</td>\n",
       "      <td>The park is open.</td>\n",
       "      <td>...</td>\n",
       "      <td>Twenty-two years after the events of Jurassic ...</td>\n",
       "      <td>124</td>\n",
       "      <td>Universal Studios|Amblin Entertainment|Legenda...</td>\n",
       "      <td>2015-06-09</td>\n",
       "      <td>5562</td>\n",
       "      <td>6.5</td>\n",
       "      <td>2015</td>\n",
       "      <td>137.999939</td>\n",
       "      <td>1392.445892</td>\n",
       "      <td>Science Fiction</td>\n",
       "    </tr>\n",
       "  </tbody>\n",
       "</table>\n",
       "<p>3 rows × 21 columns</p>\n",
       "</div>"
      ],
      "text/plain": [
       "       id    imdb_id  popularity     budget     revenue  original_title  \\\n",
       "0  135397  tt0369610   32.985763  150000000  1513528810  Jurassic World   \n",
       "0  135397  tt0369610   32.985763  150000000  1513528810  Jurassic World   \n",
       "0  135397  tt0369610   32.985763  150000000  1513528810  Jurassic World   \n",
       "\n",
       "                                                cast  \\\n",
       "0  Chris Pratt|Bryce Dallas Howard|Irrfan Khan|Vi...   \n",
       "0  Chris Pratt|Bryce Dallas Howard|Irrfan Khan|Vi...   \n",
       "0  Chris Pratt|Bryce Dallas Howard|Irrfan Khan|Vi...   \n",
       "\n",
       "                        homepage         director            tagline  \\\n",
       "0  http://www.jurassicworld.com/  Colin Trevorrow  The park is open.   \n",
       "0  http://www.jurassicworld.com/  Colin Trevorrow  The park is open.   \n",
       "0  http://www.jurassicworld.com/  Colin Trevorrow  The park is open.   \n",
       "\n",
       "        ...                                                  overview runtime  \\\n",
       "0       ...         Twenty-two years after the events of Jurassic ...     124   \n",
       "0       ...         Twenty-two years after the events of Jurassic ...     124   \n",
       "0       ...         Twenty-two years after the events of Jurassic ...     124   \n",
       "\n",
       "                                production_companies release_date vote_count  \\\n",
       "0  Universal Studios|Amblin Entertainment|Legenda...   2015-06-09       5562   \n",
       "0  Universal Studios|Amblin Entertainment|Legenda...   2015-06-09       5562   \n",
       "0  Universal Studios|Amblin Entertainment|Legenda...   2015-06-09       5562   \n",
       "\n",
       "   vote_average  release_year  budget_adj  revenue_adj           genres  \n",
       "0           6.5          2015  137.999939  1392.445892           Action  \n",
       "0           6.5          2015  137.999939  1392.445892        Adventure  \n",
       "0           6.5          2015  137.999939  1392.445892  Science Fiction  \n",
       "\n",
       "[3 rows x 21 columns]"
      ]
     },
     "execution_count": 13,
     "metadata": {},
     "output_type": "execute_result"
    }
   ],
   "source": [
    "#Check if the genres column got split into single values\n",
    "df_adj.head(3)"
   ]
  },
  {
   "cell_type": "markdown",
   "metadata": {},
   "source": [
    "<font color='#337ab7'>Each genre is now reflected in a separate row.</font>"
   ]
  },
  {
   "cell_type": "code",
   "execution_count": 14,
   "metadata": {},
   "outputs": [],
   "source": [
    "#Save the formatted dataframe into a new CSV file\n",
    "df_adj.to_csv('tmdb_movies.csv', index=False)"
   ]
  },
  {
   "cell_type": "markdown",
   "metadata": {},
   "source": [
    "<font color='#337ab7'>The formatted dataframe has been saved as a new file for further use.</font>"
   ]
  },
  {
   "cell_type": "markdown",
   "metadata": {},
   "source": [
    "<a id='eda'></a>\n",
    "## Exploratory Data Analysis\n",
    "<p></p>\n",
    "\n",
    "### Research Question 1 (What are the most and least profitable movies in a given dataframe based on the adjusted budget and revenue?)"
   ]
  },
  {
   "cell_type": "code",
   "execution_count": 15,
   "metadata": {},
   "outputs": [],
   "source": [
    "#Load the CSV file\n",
    "df = pd.read_csv ('tmdb_movies.csv')"
   ]
  },
  {
   "cell_type": "code",
   "execution_count": 16,
   "metadata": {},
   "outputs": [],
   "source": [
    "#Add a new column - adj_profit by subtracting adj_budget from adj_revenue\n",
    "df['adj_profit'] = df.revenue_adj - df.budget_adj \n",
    "df['adj_profit'] = df['adj_profit'].astype('int64')\n",
    "df.head(5) #check if the new columns was created\n",
    "df_adj.to_csv('tmdb_movies.csv', index=False) #save the changes to tmdb_movies.csv"
   ]
  },
  {
   "cell_type": "markdown",
   "metadata": {},
   "source": [
    "<font color='#337ab7'>The above operations have been performed in order to calculate the profitability of each movie. The adjusted budget and revenue have been selected to calculate the profitability, as this will allow to perform a fair comparison of the movies that were released in different year, since the inflation factor will be eliminated.</font>"
   ]
  },
  {
   "cell_type": "code",
   "execution_count": 17,
   "metadata": {},
   "outputs": [
    {
     "data": {
      "text/html": [
       "<div>\n",
       "<style scoped>\n",
       "    .dataframe tbody tr th:only-of-type {\n",
       "        vertical-align: middle;\n",
       "    }\n",
       "\n",
       "    .dataframe tbody tr th {\n",
       "        vertical-align: top;\n",
       "    }\n",
       "\n",
       "    .dataframe thead th {\n",
       "        text-align: right;\n",
       "    }\n",
       "</style>\n",
       "<table border=\"1\" class=\"dataframe\">\n",
       "  <thead>\n",
       "    <tr style=\"text-align: right;\">\n",
       "      <th></th>\n",
       "      <th>imdb_id</th>\n",
       "      <th>original_title</th>\n",
       "      <th>adj_profit</th>\n",
       "    </tr>\n",
       "  </thead>\n",
       "  <tbody>\n",
       "    <tr>\n",
       "      <th>738</th>\n",
       "      <td>tt0076759</td>\n",
       "      <td>Star Wars</td>\n",
       "      <td>2750</td>\n",
       "    </tr>\n",
       "    <tr>\n",
       "      <th>6131</th>\n",
       "      <td>tt0499549</td>\n",
       "      <td>Avatar</td>\n",
       "      <td>2586</td>\n",
       "    </tr>\n",
       "    <tr>\n",
       "      <th>3263</th>\n",
       "      <td>tt0120338</td>\n",
       "      <td>Titanic</td>\n",
       "      <td>2234</td>\n",
       "    </tr>\n",
       "    <tr>\n",
       "      <th>516</th>\n",
       "      <td>tt0070047</td>\n",
       "      <td>The Exorcist</td>\n",
       "      <td>2128</td>\n",
       "    </tr>\n",
       "    <tr>\n",
       "      <th>620</th>\n",
       "      <td>tt0073195</td>\n",
       "      <td>Jaws</td>\n",
       "      <td>1878</td>\n",
       "    </tr>\n",
       "  </tbody>\n",
       "</table>\n",
       "</div>"
      ],
      "text/plain": [
       "        imdb_id original_title  adj_profit\n",
       "738   tt0076759      Star Wars        2750\n",
       "6131  tt0499549         Avatar        2586\n",
       "3263  tt0120338        Titanic        2234\n",
       "516   tt0070047   The Exorcist        2128\n",
       "620   tt0073195           Jaws        1878"
      ]
     },
     "execution_count": 17,
     "metadata": {},
     "output_type": "execute_result"
    }
   ],
   "source": [
    "#Get top 10 most profitable movies\n",
    "#Since there are movies that appear more than once in the dataframe, use the average values.\n",
    "#Create a new dataframe grouped by imdb_id and original_title and calculate the average adj_profit.\n",
    "df_prof_mean = df.groupby(['imdb_id', 'original_title'], as_index=False).adj_profit.mean()\n",
    "#Get top 10 most profitable movies using pandas nlargest function.\n",
    "df_top_prof = df_prof_mean.nlargest(10, 'adj_profit')\n",
    "#check the results\n",
    "df_top_prof.head()"
   ]
  },
  {
   "cell_type": "markdown",
   "metadata": {},
   "source": [
    "<font color='#337ab7'>The above operations have been performed to get the top 10 most profitable movies.</font>"
   ]
  },
  {
   "cell_type": "code",
   "execution_count": 18,
   "metadata": {},
   "outputs": [
    {
     "data": {
      "text/html": [
       "<div>\n",
       "<style scoped>\n",
       "    .dataframe tbody tr th:only-of-type {\n",
       "        vertical-align: middle;\n",
       "    }\n",
       "\n",
       "    .dataframe tbody tr th {\n",
       "        vertical-align: top;\n",
       "    }\n",
       "\n",
       "    .dataframe thead th {\n",
       "        text-align: right;\n",
       "    }\n",
       "</style>\n",
       "<table border=\"1\" class=\"dataframe\">\n",
       "  <thead>\n",
       "    <tr style=\"text-align: right;\">\n",
       "      <th></th>\n",
       "      <th>imdb_id</th>\n",
       "      <th>original_title</th>\n",
       "      <th>adj_profit</th>\n",
       "    </tr>\n",
       "  </thead>\n",
       "  <tbody>\n",
       "    <tr>\n",
       "      <th>6833</th>\n",
       "      <td>tt1032751</td>\n",
       "      <td>The Warrior's Way</td>\n",
       "      <td>-413</td>\n",
       "    </tr>\n",
       "    <tr>\n",
       "      <th>7320</th>\n",
       "      <td>tt1210819</td>\n",
       "      <td>The Lone Ranger</td>\n",
       "      <td>-155</td>\n",
       "    </tr>\n",
       "    <tr>\n",
       "      <th>6211</th>\n",
       "      <td>tt0780653</td>\n",
       "      <td>The Wolfman</td>\n",
       "      <td>-150</td>\n",
       "    </tr>\n",
       "    <tr>\n",
       "      <th>400</th>\n",
       "      <td>tt0066549</td>\n",
       "      <td>Waterloo</td>\n",
       "      <td>-140</td>\n",
       "    </tr>\n",
       "    <tr>\n",
       "      <th>4607</th>\n",
       "      <td>tt0318974</td>\n",
       "      <td>The Alamo</td>\n",
       "      <td>-137</td>\n",
       "    </tr>\n",
       "  </tbody>\n",
       "</table>\n",
       "</div>"
      ],
      "text/plain": [
       "        imdb_id     original_title  adj_profit\n",
       "6833  tt1032751  The Warrior's Way        -413\n",
       "7320  tt1210819    The Lone Ranger        -155\n",
       "6211  tt0780653        The Wolfman        -150\n",
       "400   tt0066549           Waterloo        -140\n",
       "4607  tt0318974          The Alamo        -137"
      ]
     },
     "execution_count": 18,
     "metadata": {},
     "output_type": "execute_result"
    }
   ],
   "source": [
    "#Get bottom 10 least profitable movies using pandas nsmallest function.\n",
    "df_bottom_prof = df_prof_mean.nsmallest(10, 'adj_profit')\n",
    "#Check the results\n",
    "df_bottom_prof.head()"
   ]
  },
  {
   "cell_type": "markdown",
   "metadata": {},
   "source": [
    "<font color='#337ab7'>The above operations have been performed to get 10 least profitable movies.</font>"
   ]
  },
  {
   "cell_type": "code",
   "execution_count": 19,
   "metadata": {},
   "outputs": [
    {
     "data": {
      "image/png": "[encoded data removed]",
      "text/plain": [
       "<matplotlib.figure.Figure at 0x7fccda9923c8>"
      ]
     },
     "metadata": {
      "needs_background": "light"
     },
     "output_type": "display_data"
    }
   ],
   "source": [
    "#Build a bar chart for top 10 most profitable movies\n",
    "labels = df_top_prof['original_title'].values #tick labels on x axis\n",
    "#build a chart, width changes the width of the the bars for labels to line up\n",
    "ax = df_top_prof.plot(kind='bar', figsize=((18, 8)), width=0.7, color='lightgreen')\n",
    "#assign the title and axis labels\n",
    "ax.set_title('Top 10 Most Profitable Movies')\n",
    "ax.set_xlabel('Movie')\n",
    "ax.set_ylabel('Adjusted Profit (in Millions)')\n",
    "ax.set_xticklabels(labels, rotation=60) #assign and rotate labels\n",
    "\n",
    "#Define an array to hold the label values and fill it up from ax bar chart object\n",
    "totals = []\n",
    "for i in ax.patches:\n",
    "    totals.append(i.get_height())\n",
    "    \n",
    "#Set individual bar labels using above list\n",
    "total = sum(totals)\n",
    "\n",
    "#Set individual bar labels using above list\n",
    "for i in ax.patches:\n",
    "    #get_x pulls left or right; get_height pushes up or down. i.get_height()+30 is to move the labels so they don't overlap\n",
    "    #with the bars\n",
    "    ax.text(i.get_x(), i.get_height()+30, \\\n",
    "            '$' + str(round((i.get_height()), 0)) + 'MM', fontsize=14,\n",
    "                color='black')"
   ]
  },
  {
   "cell_type": "markdown",
   "metadata": {},
   "source": [
    "<font color='#337ab7'>The result of the above operations is the visual representation of the top 10 most profitable movies.</font>"
   ]
  },
  {
   "cell_type": "code",
   "execution_count": 20,
   "metadata": {},
   "outputs": [
    {
     "data": {
      "image/png": "[encoded data removed]",
      "text/plain": [
       "<matplotlib.figure.Figure at 0x7fccd94ec6a0>"
      ]
     },
     "metadata": {
      "needs_background": "light"
     },
     "output_type": "display_data"
    }
   ],
   "source": [
    "#Build a bar chart for 10 least profitable movies.\n",
    "labels = df_bottom_prof['original_title'].values #tick lables on x axis.\n",
    "#Build a chart, width changes the width of the the bars for labels to line up.\n",
    "ax = df_bottom_prof.plot(kind='bar', figsize=((18, 8)), width=0.7, color='lightsalmon')\n",
    "#Assign the title and axis labels\n",
    "ax.set_title('Bottom 10 Least Profitable Movies')\n",
    "ax.set_xlabel('Movie')\n",
    "ax.set_ylabel('Adjusted Loss (in Millions)')\n",
    "ax.set_xticklabels(labels, rotation=60) #assign and rotate labels.\n",
    "\n",
    "#Define an array to hold the label values and fill it up from ax bar chart object.\n",
    "totals = []\n",
    "for i in ax.patches:\n",
    "    totals.append(i.get_height())\n",
    "    \n",
    "#Set individual bar labels using above list.\n",
    "total = sum(totals)\n",
    "\n",
    "#Set individual bar labels using above list.\n",
    "for i in ax.patches:\n",
    "    #get_x pulls left or right; get_height pushes up or down. i.get_height()-15 is to move the labels so they don't overlap\n",
    "    ax.text(i.get_x(), i.get_height()-15, \\\n",
    "            '$' + str(round((i.get_height()), 0)) + 'MM', fontsize=14,\n",
    "                color='black')"
   ]
  },
  {
   "cell_type": "markdown",
   "metadata": {},
   "source": [
    "<font color='#337ab7'>The result of the above operations is the visual representation of 10 least profitable movies.</font>"
   ]
  },
  {
   "cell_type": "markdown",
   "metadata": {},
   "source": [
    "### Research Question 2  (Are longer movies and series more popular among IMDB users?)"
   ]
  },
  {
   "cell_type": "code",
   "execution_count": 21,
   "metadata": {},
   "outputs": [
    {
     "name": "stdout",
     "output_type": "stream",
     "text": [
      "99.0\n",
      "49.5\n"
     ]
    }
   ],
   "source": [
    "#Drop duplicates\n",
    "df.drop_duplicates(subset='imdb_id', keep=\"first\", inplace = True)\n",
    "#Remove 0 runtime movies\n",
    "df_run = df.query('runtime > 0')\n",
    "#Get median runtime\n",
    "print(df_run.runtime.median())\n",
    "#Get 50 % from median runtime\n",
    "print(df_run.runtime.median() / 2)"
   ]
  },
  {
   "cell_type": "markdown",
   "metadata": {},
   "source": [
    "<font color='#337ab7'>For this analysis the duplicate movies have been dropped. The 0 runtime movies have been filtered out as well. The median runtime value has been calculated in order to come up with 3 runtime groups.</font>"
   ]
  },
  {
   "cell_type": "code",
   "execution_count": 22,
   "metadata": {},
   "outputs": [],
   "source": [
    "#Create 3 runtime groups based on runtime median value and 50% from median\n",
    "df_short = df_run.query('1 <= runtime< 49.5') #group short\n",
    "df_average = df_run.query('49.5 <= runtime < 148.5') #group average\n",
    "df_long = df_run.query('runtime >= 148.5') #group long"
   ]
  },
  {
   "cell_type": "markdown",
   "metadata": {},
   "source": [
    "<font color='#337ab7'>3 runtime groups have been created: short, average and long runtime.</font>"
   ]
  },
  {
   "cell_type": "code",
   "execution_count": 28,
   "metadata": {},
   "outputs": [
    {
     "name": "stdout",
     "output_type": "stream",
     "text": [
      "[0.37, '0.64', 1.05]\n"
     ]
    },
    {
     "data": {
      "image/png": "[encoded data removed]",
      "text/plain": [
       "<matplotlib.figure.Figure at 0x7fccda2c2278>"
      ]
     },
     "metadata": {
      "needs_background": "light"
     },
     "output_type": "display_data"
    }
   ],
   "source": [
    "#Get the average popularity of the above groups and store in an array.\n",
    "#The second value was not giving the correct number of decimals when round(2) method was called, hence format function was used.\n",
    "chart_val = [df_short.popularity.mean().round(2), format(df_average.popularity.mean(), '.2f') , df_long.popularity.mean().round(2)]\n",
    "print (chart_val)\n",
    "\n",
    "#Build a bar chart comparing the average popularity of the 3 runtime groups.\n",
    "locations = [1, 2, 3]\n",
    "labels = ['Short', 'Average', 'Long'] #tick labels on x axis\n",
    "colors = ['lightblue', 'yellow', 'lightgreen'] #color each bar\n",
    "plt.bar(locations, [float(x) for x in chart_val], tick_label=labels, color=colors, width=0.8)\n",
    "plt.title('Popularity vs Runtime')\n",
    "plt.xlabel('Runtime')\n",
    "plt.ylabel('Average Popularity')\n",
    "plt.rcParams[\"figure.figsize\"] = (14, 5) #resize the plot\n",
    "plt.rcParams[\"axes.labelweight\"] = \"bold\" #make axes labels font bold\n",
    "\n",
    "#Add custom legend for better clarity.\n",
    "short_patch = mpatches.Patch(color='lightblue', label='Short (1 to 49.49 min)')\n",
    "average_patch = mpatches.Patch(color='yellow', label='Average (49.5 to 148.49 min)')\n",
    "long_patch = mpatches.Patch(color='lightgreen', label='Long (148.5 min and longer)')\n",
    "plt.legend(handles=[short_patch, average_patch, long_patch]);"
   ]
  },
  {
   "cell_type": "markdown",
   "metadata": {},
   "source": [
    "<font color='#337ab7'>The result of the above operations is the visual representation of the popularity vs runtime for each of the earlier created groups. \n",
    "Short runtime movies popularity rating 0.37;\n",
    "Average runtime movies popularity rating 0.64;\n",
    "Long runtime movies popularity rating 1.05;\n",
    "</font>"
   ]
  },
  {
   "cell_type": "markdown",
   "metadata": {},
   "source": [
    "### Research Question 3  (What are the best and worst rated genres among IMDB users?)"
   ]
  },
  {
   "cell_type": "code",
   "execution_count": 24,
   "metadata": {},
   "outputs": [],
   "source": [
    "#Read the tmdb_movies.csv again to exclude the previous formatting.\n",
    "df = pd.read_csv ('tmdb_movies.csv')\n",
    "#Remove nan values in vote_average, vote_count and genres columns.\n",
    "df_no_nan = df.dropna(subset=['vote_average', 'vote_count', 'genres'])\n",
    "#Exclude the movies with a low vote_count from the analysis.\n",
    "#Movies where vote_count % is less than 10% from the average number of vote_counts are filtered out.\n",
    "df_vote = df_no_nan.query('vote_count / vote_count.mean() > 0.1')\n",
    "#vote_average"
   ]
  },
  {
   "cell_type": "markdown",
   "metadata": {},
   "source": [
    "<font color='#337ab7'>The CSV file has been reloaded and the rows with 'nan' values in vote_average, vote_count and genres columns have been excluded to get the meaningful results. A decision has been made not to include the movies where vote_count % was less than 10% from the average number of vote_counts. This was done to eliminate a possibility where one vote can influence the rating.</font>"
   ]
  },
  {
   "cell_type": "code",
   "execution_count": 25,
   "metadata": {},
   "outputs": [
    {
     "name": "stdout",
     "output_type": "stream",
     "text": [
      "20\n"
     ]
    },
    {
     "data": {
      "image/png": "[encoded data removed]",
      "text/plain": [
       "<matplotlib.figure.Figure at 0x7fccd99eb390>"
      ]
     },
     "metadata": {
      "needs_background": "light"
     },
     "output_type": "display_data"
    }
   ],
   "source": [
    "#Get the number of genres.\n",
    "print(df_vote['genres'].nunique())\n",
    "#Group the genres and get the average \n",
    "df_vote_mean = df_vote.groupby('genres').vote_average.mean()\n",
    "#Make a barh chart\n",
    "df_vote_mean.sort_values().plot.barh(figsize=(16, 8), color = 'lightgreen');\n",
    "plt.title('Genres Average Vote')\n",
    "plt.xlabel('Vote Average')\n",
    "plt.ylabel('Genres');"
   ]
  },
  {
   "cell_type": "markdown",
   "metadata": {},
   "source": [
    "<font color='#337ab7'>The result of the above operations is the visual representation of the genres average vote rating. There are 20 genres in total.</font>"
   ]
  },
  {
   "cell_type": "markdown",
   "metadata": {},
   "source": [
    "### Research Question 4  (Do IMDB users vote more for popular or unpopular movies?)"
   ]
  },
  {
   "cell_type": "code",
   "execution_count": 26,
   "metadata": {},
   "outputs": [
    {
     "data": {
      "image/png": "[encoded data removed]",
      "text/plain": [
       "<matplotlib.figure.Figure at 0x7fccd9df7710>"
      ]
     },
     "metadata": {
      "needs_background": "light"
     },
     "output_type": "display_data"
    }
   ],
   "source": [
    "#Read the tmdb_movies.csv again to exclude the previous formatting.\n",
    "df = pd.read_csv ('tmdb_movies.csv')\n",
    "#drop duplicates based on imbd_id column\n",
    "df.drop_duplicates(subset='imdb_id', keep='first', inplace = True)\n",
    "#Make scatterplot chart\n",
    "df.plot.scatter(x='popularity',y='vote_count');\n",
    "plt.title('Votes Count vs Popularity')\n",
    "plt.xlabel('Popularity')\n",
    "plt.ylabel('Votes Count');"
   ]
  },
  {
   "cell_type": "markdown",
   "metadata": {},
   "source": [
    "<font color='#337ab7'>The CSV file has been reloaded and duplicate movies have been removed. The scatterplot chart has been selected to visualize the correlation between the Popularity and Votes count.</font>"
   ]
  },
  {
   "cell_type": "markdown",
   "metadata": {},
   "source": [
    "<a id='conclusions'></a>\n",
    "## Conclusions\n",
    "<p></p>\n",
    "<font color='#337ab7'>\n",
    "<b>Data Limitations:</b><br>    \n",
    "The most notable limitations I encountered while exploring the IMDb dataset include:<br>\n",
    "-The analysis by production companies is very limited, since the dataset combines multiple production companies into a single field. The fact that revenue and budget is not broken down by each studio makes it impossible to perform profitability analysis by the individual production company.<br>\n",
    "-Several columns, such as budget and revenue, contained significant number of zero values, making the analysis results limited only to those movies where this data was present.<br>\n",
    "-Some original titles were duplicated at the first glance, but looking at the other fields, such as release_year, made it clear that although some movies had identical titles, they were in fact different movies. This made it harder to group by original_title field and lead to using the imdb_id in addition to the original_title.<br>\n",
    "-When performing a runtime vs. popularity analysis I discovered that many movies had their runtime value as zero. The zero runtime movies were excluded from the analysis.<br>\n",
    "-Some of the movies had a very low number of vote counts; this could have led to unexpected results, therefore a decision has been made to exclude the movies where vote count was less than 10% from the average number of vote counts.<br>\n",
    "<p></p> \n",
    "<p></p> \n",
    "<b>1. What are the most and least profitable movies in a given dataframe based on the adjusted budget and revenue?</b><br>\n",
    "Based on the analysis of the adjusted profit the top 3 most profitable movies are:<br>\n",
    "    1. Start Wars \\$2750MM<br>\n",
    "    2. Avatar \\$2586MM<br>\n",
    "    3. Titanic \\$2234MM<br>\n",
    "     <p></p>   \n",
    "    The least profitable movies are:<br>\n",
    "    1. The Warrior's Way (-\\$413MM)<br>\n",
    "    2. The Lone Rangerv (-\\$155MM)<br>\n",
    "    3. The Wolfman (-\\$150MM)<br>\n",
    "     <p></p>  \n",
    "<b>2. Are longer movies and series more popular among IMDB users?</b><br>\n",
    "The longer movies appear to be more popular among IMDB users.<br>\n",
    "<table align=\"left\" style=\"border-collapse: collapse; width: 400px; border: 1px solid #dddddd; padding: 8px; text-align: left;\">\n",
    "  <tr>\n",
    "    <th style=\"border: 1px solid #dddddd; padding: 8px; text-align: left;\">Runtime Category</th>\n",
    "    <th style=\"border: 1px solid #dddddd; padding: 8px; text-align: left;\">Average Popularity</th>\n",
    "  </tr>\n",
    "  <tr>\n",
    "    <td style=\"border: 1px solid #dddddd; padding: 8px; text-align: left;\">Short (1 to 49.49 min)</td>\n",
    "    <td style=\"border: 1px solid #dddddd; padding: 8px; text-align: left;\">0.37</td>\n",
    "  </tr>\n",
    "  <tr>\n",
    "    <td style=\"border: 1px solid #dddddd; padding: 8px; text-align: left;\">Average (49.5 to 148.49 min)</td>\n",
    "    <td style=\"border: 1px solid #dddddd; padding: 8px; text-align: left;\">0.64</td>\n",
    "  </tr>\n",
    "  <tr>\n",
    "    <td style=\"border: 1px solid #dddddd; padding: 8px; text-align: left;\">Long (148.5 min and longer)</td>\n",
    "    <td style=\"border: 1px solid #dddddd; padding: 8px; text-align: left;\">1.05</td>\n",
    "  </tr>\n",
    "</table> \n",
    "   \n",
    "<p style=\"clear: both\"><br>\n",
    "<b>3. What are the best and worst rated genres among IMDB users?</b><br>\n",
    "Documentary is the top rated genre, followed by History and Foreign.<br> \n",
    "On contrary Horror, TV Movie and Science Fiction are the lowest rated genres.<br>\n",
    "\n",
    "<b>4. Do IMDB users vote more for popular or unpopular movies?</b><br>\n",
    "Based on the votes count and popularity scatterplot, the IMDB users tend to cast more votes for more popular movies.\n",
    "</p> \n",
    "\n",
    "</font>"
   ]
  },
  {
   "cell_type": "code",
   "execution_count": 2,
   "metadata": {},
   "outputs": [
    {
     "data": {
      "text/plain": [
       "0"
      ]
     },
     "execution_count": 2,
     "metadata": {},
     "output_type": "execute_result"
    }
   ],
   "source": [
    "from subprocess import call\n",
    "call(['python', '-m', 'nbconvert', 'Investigate_a_Dataset.ipynb'])"
   ]
  }
 ],
 "metadata": {
  "kernelspec": {
   "display_name": "Python 3",
   "language": "python",
   "name": "python3"
  },
  "language_info": {
   "codemirror_mode": {
    "name": "ipython",
    "version": 3
   },
   "file_extension": ".py",
   "mimetype": "text/x-python",
   "name": "python",
   "nbconvert_exporter": "python",
   "pygments_lexer": "ipython3",
   "version": "3.6.3"
  }
 },
 "nbformat": 4,
 "nbformat_minor": 2
}
